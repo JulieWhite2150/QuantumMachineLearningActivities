{
 "cells": [
  {
   "cell_type": "code",
   "execution_count": 3,
   "id": "d15929a1-d6e6-4817-b069-684ad367a5f4",
   "metadata": {
    "editable": true,
    "slideshow": {
     "slide_type": ""
    },
    "tags": []
   },
   "outputs": [],
   "source": [
    "import random"
   ]
  },
  {
   "cell_type": "code",
   "execution_count": 4,
   "id": "cb9bf269-60dd-4cc2-8281-4bc7dab6419b",
   "metadata": {},
   "outputs": [
    {
     "data": {
      "text/plain": [
       "([-13, -4, -9, -4, 8], [-15, 11, 7, 12, -5])"
      ]
     },
     "execution_count": 4,
     "metadata": {},
     "output_type": "execute_result"
    }
   ],
   "source": [
    "u = [random.randint(-15, 15) for _ in range(5)]\n",
    "v = [random.randint(-15, 15) for _ in range(5)]\n",
    "u,v"
   ]
  },
  {
   "cell_type": "code",
   "execution_count": 11,
   "id": "8c55345b-d26f-42a6-9707-e2647e7e85b1",
   "metadata": {},
   "outputs": [
    {
     "data": {
      "text/plain": [
       "[-231, -196, -109, -84, 92]"
      ]
     },
     "execution_count": 11,
     "metadata": {},
     "output_type": "execute_result"
    }
   ],
   "source": [
    "w = [None] * 5\n",
    "for i in range(5):\n",
    "    u[i] = 3*u[i]\n",
    "    v[i] = 2*v[i]\n",
    "    u[i],v[i]\n",
    "    w[i] = u[i]-v[i]\n",
    "\n",
    "w"
   ]
  },
  {
   "cell_type": "code",
   "execution_count": null,
   "id": "3dbfc7b4-a15c-4bc1-ad4f-3a8d415dfb54",
   "metadata": {},
   "outputs": [],
   "source": []
  }
 ],
 "metadata": {
  "kernelspec": {
   "display_name": "Python [conda env:base] *",
   "language": "python",
   "name": "conda-base-py"
  },
  "language_info": {
   "codemirror_mode": {
    "name": "ipython",
    "version": 3
   },
   "file_extension": ".py",
   "mimetype": "text/x-python",
   "name": "python",
   "nbconvert_exporter": "python",
   "pygments_lexer": "ipython3",
   "version": "3.12.7"
  }
 },
 "nbformat": 4,
 "nbformat_minor": 5
}
